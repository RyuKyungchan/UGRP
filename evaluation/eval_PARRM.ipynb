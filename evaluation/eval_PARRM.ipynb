{
 "cells": [
  {
   "cell_type": "code",
   "execution_count": 1,
   "metadata": {},
   "outputs": [
    {
     "ename": "ModuleNotFoundError",
     "evalue": "No module named 'pyparrm'",
     "output_type": "error",
     "traceback": [
      "\u001b[1;31m---------------------------------------------------------------------------\u001b[0m",
      "\u001b[1;31mModuleNotFoundError\u001b[0m                       Traceback (most recent call last)",
      "Cell \u001b[1;32mIn[1], line 25\u001b[0m\n\u001b[0;32m     21\u001b[0m \u001b[38;5;28;01mfrom\u001b[39;00m \u001b[38;5;21;01mFFT_func\u001b[39;00m \u001b[38;5;28;01mimport\u001b[39;00m FFT\n\u001b[0;32m     23\u001b[0m sys\u001b[38;5;241m.\u001b[39mpath\u001b[38;5;241m.\u001b[39mappend(\u001b[38;5;124m'\u001b[39m\u001b[38;5;124m../existing_SAC/PARRM/PyPARRM-main/src/pyparrm\u001b[39m\u001b[38;5;124m'\u001b[39m)\n\u001b[1;32m---> 25\u001b[0m \u001b[38;5;28;01mfrom\u001b[39;00m \u001b[38;5;21;01mparrm\u001b[39;00m \u001b[38;5;28;01mimport\u001b[39;00m PARRM\n\u001b[0;32m     26\u001b[0m \u001b[38;5;28;01mfrom\u001b[39;00m \u001b[38;5;21;01m_utils\u001b[39;00m\u001b[38;5;21;01m.\u001b[39;00m\u001b[38;5;21;01m_power\u001b[39;00m \u001b[38;5;28;01mimport\u001b[39;00m compute_psd\n\u001b[0;32m     28\u001b[0m fpath \u001b[38;5;241m=\u001b[39m \u001b[38;5;124m\"\u001b[39m\u001b[38;5;124m../Test_data/\u001b[39m\u001b[38;5;124m\"\u001b[39m\n",
      "File \u001b[1;32mc:\\Users\\stell\\Documents\\UGRP\\evaluation\\../existing_SAC/PARRM/PyPARRM-main/src/pyparrm\\parrm.py:15\u001b[0m\n\u001b[0;32m     12\u001b[0m \u001b[38;5;28;01mfrom\u001b[39;00m \u001b[38;5;21;01mscipy\u001b[39;00m\u001b[38;5;21;01m.\u001b[39;00m\u001b[38;5;21;01moptimize\u001b[39;00m \u001b[38;5;28;01mimport\u001b[39;00m fmin\n\u001b[0;32m     13\u001b[0m \u001b[38;5;28;01mfrom\u001b[39;00m \u001b[38;5;21;01mscipy\u001b[39;00m\u001b[38;5;21;01m.\u001b[39;00m\u001b[38;5;21;01msignal\u001b[39;00m \u001b[38;5;28;01mimport\u001b[39;00m convolve  \u001b[38;5;66;03m# faster than convolve2d\u001b[39;00m\n\u001b[1;32m---> 15\u001b[0m \u001b[38;5;28;01mfrom\u001b[39;00m \u001b[38;5;21;01mpyparrm\u001b[39;00m\u001b[38;5;21;01m.\u001b[39;00m\u001b[38;5;21;01m_utils\u001b[39;00m\u001b[38;5;21;01m.\u001b[39;00m\u001b[38;5;21;01m_plotting\u001b[39;00m \u001b[38;5;28;01mimport\u001b[39;00m _ExploreParams\n\u001b[0;32m     18\u001b[0m \u001b[38;5;66;03m# np.seterr(all=\"ignore\")  # ignore zero division error\u001b[39;00m\n\u001b[0;32m     21\u001b[0m \u001b[38;5;28;01mclass\u001b[39;00m \u001b[38;5;21;01mPARRM\u001b[39;00m:\n",
      "\u001b[1;31mModuleNotFoundError\u001b[0m: No module named 'pyparrm'"
     ]
    }
   ],
   "source": [
    "\"\"\"\n",
    "===========================================================\n",
    "Using PyPARRM to filter out stimulation artefacts from data\n",
    "===========================================================\n",
    "\n",
    "This example demonstrates how the PARRM algorithm :footcite:`DastinEtAl2021`\n",
    "can be used to identify and remove stimulation artefacts from\n",
    "electrophysiological data in the PyPARRM package.\n",
    "\"\"\"\n",
    "\n",
    "import numpy as np\n",
    "from matplotlib import pyplot as plt\n",
    "\n",
    "import sys\n",
    "import sys\n",
    "sys.path.append('../tool_code/python_tool_code/function/') # \"~~/tool_code/plot/\" (상대 경로)\n",
    "sys.path.append('../tool_code/python_tool_code/frequency_dataset_generation/')\n",
    "\n",
    "from DataPlot import Data_Load_Plot, Result_Plot, Result_Plot_paper, Loss_Plot\n",
    "from Scaling import time_scaling, time_inv_scaling\n",
    "from FFT_func import FFT\n",
    "\n",
    "sys.path.append('../existing_SAC/PARRM/PyPARRM-main/src/pyparrm')\n",
    "\n",
    "from parrm import PARRM\n",
    "from _utils._power import compute_psd\n",
    "\n",
    "fpath = \"../Test_data/\"\n",
    "\n",
    "Contaminated = np.load(fpath + \"contaminated_by_realistic\" + \".npy\")\n",
    "Clean = np.load(fpath + \"clean_data\" + \".npy\")"
   ]
  },
  {
   "cell_type": "code",
   "execution_count": null,
   "metadata": {},
   "outputs": [],
   "source": [
    "fs = 2000  # Hz\n",
    "artefact_freq = 125  # Hz\n",
    "\n",
    "winTime = 0.99\n",
    "skipTime = winTime / 30\n",
    "perDist = 0.01\n",
    "\n",
    "# winTime = 0.5 \n",
    "# skipTime = winTime / 10  \n",
    "# perDist = 0.01\n",
    "\n",
    "winSize = int(fs*winTime)  \n",
    "skipSize = int(fs*skipTime)\n",
    "winDir = \"both\"\n",
    "\n",
    "print(\n",
    "    f\"`data` has shape: ({Contaminated.shape[0]} channel, \"\n",
    "    f\"{Contaminated.shape[1]} timepoints)\\n\"\n",
    "    f\"`data` duration: {Contaminated.shape[1] / fs :.2f} seconds\"\n",
    ")"
   ]
  },
  {
   "cell_type": "code",
   "execution_count": null,
   "metadata": {},
   "outputs": [],
   "source": [
    "parrmed = []\n",
    "\n",
    "for i in range(Contaminated.shape[0]):\n",
    "    parrm = PARRM(\n",
    "        data=Contaminated[i].reshape(1, -1),\n",
    "        sampling_freq=fs,\n",
    "        artefact_freq=artefact_freq,\n",
    "        verbose=False,  # silenced to reduce pqdm output clutter\n",
    "    )\n",
    "\n",
    "    parrm.find_period()\n",
    "\n",
    "    print(f\"Sample : {i} | Estimated artefact period: {parrm.period :.4f}\")\n",
    "\n",
    "    parrm.create_filter(\n",
    "        filter_half_width=winSize,\n",
    "        omit_n_samples=skipSize,\n",
    "        filter_direction=winDir,\n",
    "        period_half_width=perDist,\n",
    "    )\n",
    "    parrmed_data = parrm.filter_data()  # other data to filter can be given here\n",
    "    parrmed.append(parrmed_data)\n"
   ]
  },
  {
   "cell_type": "code",
   "execution_count": null,
   "metadata": {},
   "outputs": [],
   "source": [
    "save_path = '../../../../result/paper/'\n",
    "save_title = 'PARRM'\n",
    "Result_Plot(Contaminated, parrmed_data, Clean)\n",
    "# Result_Plot_paper(Contaminated, parrmed_data, Clean, save_path, save_title)"
   ]
  }
 ],
 "metadata": {
  "kernelspec": {
   "display_name": "torch1",
   "language": "python",
   "name": "python3"
  },
  "language_info": {
   "codemirror_mode": {
    "name": "ipython",
    "version": 3
   },
   "file_extension": ".py",
   "mimetype": "text/x-python",
   "name": "python",
   "nbconvert_exporter": "python",
   "pygments_lexer": "ipython3",
   "version": "3.9.19"
  }
 },
 "nbformat": 4,
 "nbformat_minor": 2
}
