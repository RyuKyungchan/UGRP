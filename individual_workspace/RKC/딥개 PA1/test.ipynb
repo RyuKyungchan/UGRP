{
 "cells": [
  {
   "cell_type": "code",
   "execution_count": 4,
   "metadata": {},
   "outputs": [
    {
     "name": "stdout",
     "output_type": "stream",
     "text": [
      "Forward output: [0 0 0 1 2]\n",
      "Backward output (input gradients): [0 0 0 1 1]\n"
     ]
    }
   ],
   "source": [
    "import numpy as np\n",
    "\n",
    "class ReLU():\n",
    "    def forward(self, input):\n",
    "        return np.maximum(0, input)\n",
    "    \n",
    "    def backward(self, input, output_gradient):\n",
    "        grad = input > 0\n",
    "        return grad * output_gradient\n",
    "\n",
    "# ReLU 클래스 인스턴스 생성\n",
    "relu = ReLU()\n",
    "\n",
    "# 입력 데이터 생성\n",
    "input_data = np.array([-2, -1, 0, 1, 2])\n",
    "\n",
    "# Forward pass (ReLU 활성화 함수 적용)\n",
    "output = relu.forward(input_data)\n",
    "print(\"Forward output:\", output)\n",
    "\n",
    "# 가상의 output gradient (역전파 단계에서 전달되는 gradient)\n",
    "output_gradient = np.array([1, 1, 1, 1, 1])\n",
    "\n",
    "# Backward pass (ReLU의 기울기 계산)\n",
    "input_gradient = relu.backward(input_data, output_gradient)\n",
    "print(\"Backward output (input gradients):\", input_gradient)"
   ]
  },
  {
   "cell_type": "code",
   "execution_count": 7,
   "metadata": {},
   "outputs": [
    {
     "name": "stdout",
     "output_type": "stream",
     "text": [
      "[[2.12078996e-04 5.76490482e-04 1.56706360e-03]\n",
      " [4.25972051e-03 1.15791209e-02 3.14753138e-02]\n",
      " [8.55587737e-02 2.32572860e-01 6.32198578e-01]]\n"
     ]
    }
   ],
   "source": [
    "import numpy as np\n",
    "\n",
    "x = np.array(([1, 2, 3],\n",
    "             [4, 5, 6],\n",
    "             [7, 8, 9]))\n",
    "\n",
    "# 개선된 Softmax 함수\n",
    "def softmax(x):\n",
    "    exp_x = np.exp(x - np.max(x))\n",
    "    return exp_x / np.sum(exp_x)\n",
    "\n",
    "print(softmax(x))  # 안정적인 결과\n"
   ]
  }
 ],
 "metadata": {
  "kernelspec": {
   "display_name": "torch_book",
   "language": "python",
   "name": "python3"
  },
  "language_info": {
   "codemirror_mode": {
    "name": "ipython",
    "version": 3
   },
   "file_extension": ".py",
   "mimetype": "text/x-python",
   "name": "python",
   "nbconvert_exporter": "python",
   "pygments_lexer": "ipython3",
   "version": "3.8.18"
  }
 },
 "nbformat": 4,
 "nbformat_minor": 2
}
