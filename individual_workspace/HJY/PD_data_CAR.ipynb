{
 "cells": [
  {
   "cell_type": "code",
   "execution_count": 7,
   "metadata": {},
   "outputs": [
    {
     "name": "stdout",
     "output_type": "stream",
     "text": [
      "[[ 5.9519998e-06  2.3615998e-05  7.9359997e-06 ... -1.8559999e-06\n",
      "   2.9439998e-06  5.3759995e-06]\n",
      " [ 1.0431999e-05  7.8079993e-06  1.2927999e-05 ... -2.1759997e-06\n",
      "   1.3888000e-05 -4.8639995e-06]\n",
      " [ 1.6767999e-05  4.1727995e-05  3.3023996e-05 ...  2.2655999e-05\n",
      "   7.4879995e-06  1.7471999e-05]\n",
      " ...\n",
      " [ 8.0191996e-05 -7.3599995e-06  2.1055999e-05 ...  2.1081598e-04\n",
      "   2.4057599e-04  9.7727992e-05]\n",
      " [ 9.4911993e-05 -3.1999998e-06  3.4943998e-05 ...  2.1075198e-04\n",
      "   2.4044799e-04  9.0815993e-05]\n",
      " [ 9.4015995e-05 -6.3999994e-07  2.7839998e-05 ...  2.1100798e-04\n",
      "   2.3577598e-04  9.7727992e-05]]\n"
     ]
    }
   ],
   "source": [
    "import h5py\n",
    "\n",
    "# .mat 파일 로드\n",
    "mat_file_path = '../../data/real_data/PD_data/PD_OpenLoop_ch12-13.mat'\n",
    "data_with_artifact = h5py.File(mat_file_path)\n",
    "\n",
    "with h5py.File(mat_file_path, 'r') as f:\n",
    "    # 데이터 변수에 접근 (예: 'raw'라는 변수 접근)\n",
    "    data_with_artifact = f['raw'][:]\n",
    "\n",
    "print(data_with_artifact)"
   ]
  }
 ],
 "metadata": {
  "kernelspec": {
   "display_name": "torch1",
   "language": "python",
   "name": "python3"
  },
  "language_info": {
   "codemirror_mode": {
    "name": "ipython",
    "version": 3
   },
   "file_extension": ".py",
   "mimetype": "text/x-python",
   "name": "python",
   "nbconvert_exporter": "python",
   "pygments_lexer": "ipython3",
   "version": "3.9.19"
  }
 },
 "nbformat": 4,
 "nbformat_minor": 2
}
