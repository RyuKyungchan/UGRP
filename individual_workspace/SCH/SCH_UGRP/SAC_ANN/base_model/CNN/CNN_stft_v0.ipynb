{
 "cells": [
  {
   "cell_type": "code",
   "execution_count": 1,
   "metadata": {},
   "outputs": [],
   "source": [
    "import torch\n",
    "import torch.nn as nn\n",
    "import torch.optim as optim\n",
    "import torch.nn.functional as F\n",
    "import numpy as np\n",
    "# import mat73\n",
    "import sklearn.model_selection as ms\n",
    "# import sys\n",
    "import matplotlib.pyplot as plt"
   ]
  },
  {
   "cell_type": "code",
   "execution_count": 2,
   "metadata": {},
   "outputs": [
    {
     "name": "stdout",
     "output_type": "stream",
     "text": [
      "(2188, 25, 251, 9, 21)\n",
      "(2188, 21, 50000)\n",
      "(2188, 17)\n"
     ]
    }
   ],
   "source": [
    "# fpath = 'C:/Users/stell/data/'\n",
    "fpath = 'E:/SNUH_EEG_data/EEG_data/'\n",
    "\n",
    "x_stft = np.load(fpath + 'stft_x_tlen4_corrected.npy') # num_data, num_window, num_freqs, num_time, num_ch (2188, 25, 251, 9, 21)\n",
    "x = np.load(fpath + 'x_correct.npy') # num_data, num_ch, num_time_points (2188, 21, 50000)\n",
    "y = np.load(fpath + 'y_correct.npy') # num_data, symptoms (2188, 17)\n",
    "\n",
    "print(x_stft.shape)\n",
    "print(x.shape)\n",
    "print(y.shape)"
   ]
  },
  {
   "cell_type": "code",
   "execution_count": 3,
   "metadata": {},
   "outputs": [
    {
     "name": "stdout",
     "output_type": "stream",
     "text": [
      "[ -48.805756+0.j  128.58377 +0.j  125.954605+0.j  -28.771269+0.j\n",
      " -111.53321 +0.j   72.64079 +0.j   81.4202  +0.j  -28.337587+0.j\n",
      "    8.03219 +0.j  167.07208 +0.j  415.81134 +0.j  171.02844 +0.j\n",
      " -309.4283  +0.j -369.30115 +0.j  -68.63318 +0.j -200.64812 +0.j\n",
      " -121.940384+0.j  -82.856445+0.j  178.7245  +0.j -190.2455  +0.j\n",
      "   77.22679 +0.j]\n",
      "(-48.805756+0j)\n"
     ]
    }
   ],
   "source": [
    "fs = 500\n",
    "t_len = 4\n",
    "total_t_len = 100\n",
    "num_win = int(total_t_len/t_len) # 25\n",
    "\n",
    "fft_win_time = 1\n",
    "n_fft = fft_win_time * fs # 500\n",
    "fft_overlap_time = fft_win_time/2*fs\n",
    "freqs = torch.fft.rfftfreq(n_fft, 1 / fs)\n",
    "\n",
    "print(x_stft[0][0][0][0]) # 21 channel 당 값\n",
    "print(x_stft[0][0][0][0][0]) # 한 채널 당 값"
   ]
  },
  {
   "cell_type": "code",
   "execution_count": 4,
   "metadata": {},
   "outputs": [
    {
     "name": "stdout",
     "output_type": "stream",
     "text": [
      "[1. 0. 0. 0. 0. 0. 3. 0. 0. 0. 0. 0. 0. 0. 0. 0. 0.]\n",
      "0.0\n",
      "3.0\n",
      "[0.33333333 0.         0.         0.         0.         0.\n",
      " 1.         0.         0.         0.         0.         0.\n",
      " 0.         0.         0.         0.         0.        ]\n"
     ]
    }
   ],
   "source": [
    "print(y[0])\n",
    "# min-max normalization\n",
    "print(np.min(y))\n",
    "print(np.max(y))\n",
    "y = (y - np.min(y)) / (np.max(y) - np.min(y))\n",
    "print(y[0])"
   ]
  },
  {
   "cell_type": "code",
   "execution_count": 5,
   "metadata": {},
   "outputs": [],
   "source": [
    "X_train, X_test, Y_train, Y_test = ms.train_test_split(x_stft, y, \n",
    "                                                        test_size=0.2, random_state=100)\n",
    "\n",
    "num_batch, num_window, num_freqs, num_time, num_ch = X_train.shape # x : B x window x F x T x C\n",
    "X_train = torch.reshape(torch.tensor(X_train), (X_train.shape[0]*X_train.shape[1], X_train.shape[2], X_train.shape[3], X_train.shape[4])) # x : B*window x F x T x C\n",
    "Y_train = torch.tensor(Y_train).repeat(num_window, 1) # y : B*window x symptom\n",
    "\n",
    "num_batch, num_window, num_freqs, num_time, num_ch = X_test.shape\n",
    "X_test = torch.reshape(torch.tensor(X_test), (X_test.shape[0]*X_test.shape[1], X_test.shape[2], X_test.shape[3], X_test.shape[4]))\n",
    "Y_test = torch.tensor(Y_test).repeat(num_window, 1) "
   ]
  },
  {
   "cell_type": "code",
   "execution_count": 6,
   "metadata": {},
   "outputs": [
    {
     "name": "stdout",
     "output_type": "stream",
     "text": [
      "torch.Size([43750, 251, 9, 21])\n",
      "torch.Size([43750, 17])\n"
     ]
    }
   ],
   "source": [
    "print(X_train.shape) # (batch*window, freq, time, ch)   [43750, 251, 9, 21]\n",
    "print(Y_train.shape)    #[43750, 17]"
   ]
  },
  {
   "cell_type": "code",
   "execution_count": 7,
   "metadata": {},
   "outputs": [],
   "source": [
    "freqs = torch.fft.rfftfreq(n_fft, 1 / fs) # [251]"
   ]
  },
  {
   "cell_type": "code",
   "execution_count": 8,
   "metadata": {},
   "outputs": [],
   "source": [
    "class ConvBlock(nn.Module):\n",
    "    def __init__(self, in_channels, out_channels, kernel_size, dilation, final=False):\n",
    "        super().__init__()\n",
    "        self.conv1 = nn.Conv2d(in_channels, out_channels, kernel_size, dilation=dilation, padding='same')\n",
    "        self.conv2 = nn.Conv2d(out_channels, out_channels, kernel_size, dilation=dilation, padding='same')\n",
    "        self.projector = nn.Conv2d(in_channels, out_channels, 1) if in_channels != out_channels or final else None\n",
    "    \n",
    "    def forward(self, x):\n",
    "        residual = x if self.projector is None else self.projector(x)\n",
    "        x = F.gelu(x)\n",
    "        x = self.conv1(x)\n",
    "        x = F.gelu(x)\n",
    "        x = self.conv2(x)\n",
    "        return x + residual\n",
    "    \n",
    "class simpleCNN2d(nn.Module):\n",
    "    def __init__(self, in_dims, hidden_dims, out_dims, num_time, num_freqs, kernel_size, num_layers):\n",
    "        super().__init__()\n",
    "\n",
    "        self.fc1 = nn.Linear(in_dims, hidden_dims)\n",
    "        self.dropout = nn.Dropout(0.1)\n",
    "        self.gelu = nn.GELU()\n",
    "        self.relu = nn.ReLU()\n",
    "\n",
    "        channels = [hidden_dims] * (num_layers + 1)\n",
    "\n",
    "        self.net = nn.Sequential(*[\n",
    "            ConvBlock(\n",
    "                channels[i-1] if i > 0 else hidden_dims,\n",
    "                channels[i],\n",
    "                kernel_size=kernel_size,\n",
    "                dilation=1,\n",
    "                final=(i == len(channels)-1)\n",
    "            )\n",
    "            for i in range(len(channels)) # layer 수 만큼\n",
    "        ])\n",
    "        \n",
    "        self.squeeze_ch = nn.Conv2d(hidden_dims, 1, 1)\n",
    "        self.squeeze_time = nn.Conv1d(num_time, 1, 1)\n",
    "\n",
    "        self.fc2 = nn.Linear(num_freqs, out_dims)\n",
    "\n",
    "    def forward(self, x): # x: B x C x F x T\n",
    "        x = self.gelu(self.dropout(self.fc1(x.permute(0, 2, 3, 1).contiguous()))) # x: B x F x T x C\n",
    "        x = self.net(x.permute(0, 3, 1, 2).contiguous()) # x: B x C x F x T\n",
    "        x = self.gelu(self.squeeze_ch(x)).squeeze(1) # x: B x 1 x F x T -> B x F x T\n",
    "        x = self.squeeze_time(x.permute(0, 2, 1).contiguous()).squeeze(1) # x: B x T x F -> B x 1 x F -> B x F\n",
    "        x = self.fc2(x) # x: B x out_dims\n",
    "        x = self.relu(x) # x: B x out_dims\n",
    "\n",
    "        return x"
   ]
  },
  {
   "cell_type": "code",
   "execution_count": 9,
   "metadata": {},
   "outputs": [],
   "source": [
    "cycle_l1_loss = nn.L1Loss(reduction='sum')"
   ]
  },
  {
   "cell_type": "code",
   "execution_count": 10,
   "metadata": {},
   "outputs": [
    {
     "data": {
      "text/plain": [
       "torch.Size([43750, 251, 9, 21])"
      ]
     },
     "execution_count": 10,
     "metadata": {},
     "output_type": "execute_result"
    }
   ],
   "source": [
    "X_train.shape"
   ]
  },
  {
   "cell_type": "code",
   "execution_count": 11,
   "metadata": {},
   "outputs": [
    {
     "data": {
      "text/plain": [
       "(2188, 25, 251, 9, 21)"
      ]
     },
     "execution_count": 11,
     "metadata": {},
     "output_type": "execute_result"
    }
   ],
   "source": [
    "x_stft.shape"
   ]
  },
  {
   "cell_type": "code",
   "execution_count": 12,
   "metadata": {},
   "outputs": [
    {
     "name": "stdout",
     "output_type": "stream",
     "text": [
      "Epoch: [1/100], loss: 529.003174\n",
      "Epoch: [2/100], loss: 472.765869\n",
      "Epoch: [3/100], loss: 490.484985\n",
      "Epoch: [4/100], loss: 458.673309\n",
      "Epoch: [5/100], loss: 472.107056\n",
      "Epoch: [6/100], loss: 477.770844\n",
      "Epoch: [7/100], loss: 488.084961\n",
      "Epoch: [8/100], loss: 510.527039\n",
      "Epoch: [9/100], loss: 482.222687\n",
      "Epoch: [10/100], loss: 471.131348\n",
      "Epoch: [11/100], loss: 507.156250\n",
      "Epoch: [12/100], loss: 482.457397\n",
      "Epoch: [13/100], loss: 470.073273\n",
      "Epoch: [14/100], loss: 491.104431\n",
      "Epoch: [15/100], loss: 502.043274\n",
      "Epoch: [16/100], loss: 487.434753\n",
      "Epoch: [17/100], loss: 511.125488\n",
      "Epoch: [18/100], loss: 510.155212\n",
      "Epoch: [19/100], loss: 510.759338\n",
      "Epoch: [20/100], loss: 503.728516\n",
      "Epoch: [21/100], loss: 512.322754\n",
      "Epoch: [22/100], loss: 480.059570\n",
      "Epoch: [23/100], loss: 471.601318\n",
      "Epoch: [24/100], loss: 463.919495\n",
      "Epoch: [25/100], loss: 475.221863\n",
      "Epoch: [26/100], loss: 441.322144\n",
      "Epoch: [27/100], loss: 428.978088\n",
      "Epoch: [28/100], loss: 446.123932\n",
      "Epoch: [29/100], loss: 444.694366\n",
      "Epoch: [30/100], loss: 451.084747\n",
      "Epoch: [31/100], loss: 413.830353\n",
      "Epoch: [32/100], loss: 420.492249\n",
      "Epoch: [33/100], loss: 399.918457\n",
      "Epoch: [34/100], loss: 471.005676\n",
      "Epoch: [35/100], loss: 410.334534\n",
      "Epoch: [36/100], loss: 414.021576\n",
      "Epoch: [37/100], loss: 434.688751\n",
      "Epoch: [38/100], loss: 436.410645\n",
      "Epoch: [39/100], loss: 381.588226\n",
      "Epoch: [40/100], loss: 425.115540\n",
      "Epoch: [41/100], loss: 418.813293\n",
      "Epoch: [42/100], loss: 396.797668\n",
      "Epoch: [43/100], loss: 405.379181\n",
      "Epoch: [44/100], loss: 383.653625\n",
      "Epoch: [45/100], loss: 359.034027\n",
      "Epoch: [46/100], loss: 376.586426\n",
      "Epoch: [47/100], loss: 379.920654\n",
      "Epoch: [48/100], loss: 358.237640\n",
      "Epoch: [49/100], loss: 338.464508\n",
      "Epoch: [50/100], loss: 375.928192\n",
      "Epoch: [51/100], loss: 355.058716\n",
      "Epoch: [52/100], loss: 376.450256\n",
      "Epoch: [53/100], loss: 332.857635\n",
      "Epoch: [54/100], loss: 337.763550\n",
      "Epoch: [55/100], loss: 345.084167\n",
      "Epoch: [56/100], loss: 330.179382\n",
      "Epoch: [57/100], loss: 359.567566\n",
      "Epoch: [58/100], loss: 338.786926\n",
      "Epoch: [59/100], loss: 345.248901\n",
      "Epoch: [60/100], loss: 349.582031\n",
      "Epoch: [61/100], loss: 356.236694\n",
      "Epoch: [62/100], loss: 352.602112\n",
      "Epoch: [63/100], loss: 371.125366\n",
      "Epoch: [64/100], loss: 355.201843\n",
      "Epoch: [65/100], loss: 346.300873\n",
      "Epoch: [66/100], loss: 352.188477\n",
      "Epoch: [67/100], loss: 370.449158\n",
      "Epoch: [68/100], loss: 339.463318\n",
      "Epoch: [69/100], loss: 325.295013\n",
      "Epoch: [70/100], loss: 344.063080\n",
      "Epoch: [71/100], loss: 355.155151\n",
      "Epoch: [72/100], loss: 328.468079\n",
      "Epoch: [73/100], loss: 323.552734\n",
      "Epoch: [74/100], loss: 332.461670\n",
      "Epoch: [75/100], loss: 345.231903\n",
      "Epoch: [76/100], loss: 325.588867\n",
      "Epoch: [77/100], loss: 334.871582\n",
      "Epoch: [78/100], loss: 356.630035\n",
      "Epoch: [79/100], loss: 347.949219\n",
      "Epoch: [80/100], loss: 337.109955\n",
      "Epoch: [81/100], loss: 341.494446\n",
      "Epoch: [82/100], loss: 321.888458\n",
      "Epoch: [83/100], loss: 339.962891\n",
      "Epoch: [84/100], loss: 335.242920\n",
      "Epoch: [85/100], loss: 344.015778\n",
      "Epoch: [86/100], loss: 316.299561\n",
      "Epoch: [87/100], loss: 337.199158\n",
      "Epoch: [88/100], loss: 326.999207\n",
      "Epoch: [89/100], loss: 318.356567\n",
      "Epoch: [90/100], loss: 322.190491\n",
      "Epoch: [91/100], loss: 358.427246\n",
      "Epoch: [92/100], loss: 334.341797\n",
      "Epoch: [93/100], loss: 318.392181\n",
      "Epoch: [94/100], loss: 334.820679\n",
      "Epoch: [95/100], loss: 332.898315\n",
      "Epoch: [96/100], loss: 350.515442\n",
      "Epoch: [97/100], loss: 325.319946\n",
      "Epoch: [98/100], loss: 330.897675\n",
      "Epoch: [99/100], loss: 340.107361\n",
      "Epoch: [100/100], loss: 348.836792\n"
     ]
    }
   ],
   "source": [
    "num_freqs = freqs.shape[0]\n",
    "batch_size = 256\n",
    "num_epochs = 100\n",
    "in_dims = 21 # channels\n",
    "hidden_dims = 128\n",
    "out_dims = 17 # symptoms\n",
    "kernel_size = 3\n",
    "num_layers = 10\n",
    "num_time = X_train.shape[2]\n",
    "lr = 1e-4\n",
    "device = torch.device('cuda:0' if torch.cuda.is_available() else 'cpu')\n",
    "\n",
    "dataset = list(zip(X_train, Y_train))\n",
    "dataloader = torch.utils.data.DataLoader(dataset, batch_size=batch_size, shuffle=True)\n",
    "\n",
    "model = simpleCNN2d(in_dims, hidden_dims, out_dims, num_time, num_freqs, kernel_size, num_layers).to(device)\n",
    "        \n",
    "optimizer = optim.Adam(model.parameters(), lr=lr)\n",
    "\n",
    "# Training loop\n",
    "for epoch in range(num_epochs):\n",
    "    for batch in dataloader:\n",
    "        optimizer.zero_grad()\n",
    "        x = batch[0].to(device) # x: B x F x T x C\n",
    "        # print('before log: {}'.format(x))\n",
    "        x = torch.log10(torch.abs(x)**2 + 1e-6)\n",
    "        x = x.permute(0, 3, 1, 2) # x: B x C x F x T\n",
    "        x = x.type(torch.float32)\n",
    "\n",
    "        y = batch[1].to(device) # y: B x out_dims\n",
    "        y = y.type(torch.float32)\n",
    "                \n",
    "        y_hat = model(x)\n",
    "        \n",
    "        loss = cycle_l1_loss(y_hat, y)\n",
    "        loss.backward()\n",
    "        optimizer.step()\n",
    "\n",
    "    print('Epoch: [{}/{}], loss: {:.6f}'.format(epoch+1, num_epochs, loss.item()))"
   ]
  },
  {
   "cell_type": "code",
   "execution_count": 13,
   "metadata": {},
   "outputs": [],
   "source": [
    "torch.save(model.state_dict(), './model.pth')"
   ]
  },
  {
   "cell_type": "code",
   "execution_count": 14,
   "metadata": {},
   "outputs": [],
   "source": [
    "dataset = list(zip(X_test, Y_test))\n",
    "dataloader = torch.utils.data.DataLoader(dataset, batch_size=batch_size, shuffle=True)\n",
    "\n",
    "inputs_x = torch.tensor([])\n",
    "inputs_y = torch.tensor([])\n",
    "outputs_y_hat = torch.tensor([])\n",
    "\n",
    "with torch.no_grad():\n",
    "    for batch in dataloader:\n",
    "        x = batch[0] # x: B x F x T x C\n",
    "        B_size, F_size, T_size, C_size = x.shape\n",
    "        # print('before log: {}'.format(x))\n",
    "        x = torch.log10(torch.abs(x)**2 + 1e-6)\n",
    "        x = x.permute(0, 3, 1, 2) # x: B x C x F x T\n",
    "        x = x.type(torch.float32)\n",
    "        x = x.to(device)\n",
    "\n",
    "        y = batch[1] # y: B x out_dims\n",
    "        y = y.type(torch.float32)\n",
    "        y = y.to(device)\n",
    "                \n",
    "        y_hat = model(x)\n",
    "\n",
    "        inputs_x = torch.cat((inputs_x, x.cpu()), 0)\n",
    "        inputs_y = torch.cat((inputs_y, y.cpu()), 0)\n",
    "        outputs_y_hat = torch.cat((outputs_y_hat, y_hat.cpu()), 0)"
   ]
  },
  {
   "cell_type": "code",
   "execution_count": 15,
   "metadata": {},
   "outputs": [],
   "source": [
    "err = torch.abs(outputs_y_hat - inputs_y)"
   ]
  },
  {
   "cell_type": "code",
   "execution_count": 16,
   "metadata": {},
   "outputs": [
    {
     "data": {
      "text/plain": [
       "tensor(2)"
      ]
     },
     "execution_count": 16,
     "metadata": {},
     "output_type": "execute_result"
    }
   ],
   "source": [
    "torch.argmin(err)"
   ]
  },
  {
   "cell_type": "code",
   "execution_count": 17,
   "metadata": {},
   "outputs": [
    {
     "data": {
      "text/plain": [
       "tensor([[0.0589, 0.7572, 0.0000,  ..., 0.0000, 0.6667, 0.0000],\n",
       "        [0.4620, 0.2084, 0.0000,  ..., 0.0000, 1.0000, 0.0000],\n",
       "        [0.8411, 0.3992, 0.6667,  ..., 0.3333, 0.0000, 0.0000],\n",
       "        ...,\n",
       "        [0.5438, 0.7520, 0.0000,  ..., 0.6667, 0.0000, 0.0000],\n",
       "        [0.5564, 0.6194, 0.0000,  ..., 0.6667, 0.0000, 0.0000],\n",
       "        [0.0000, 0.0000, 0.3333,  ..., 0.0000, 0.0000, 0.0000]])"
      ]
     },
     "execution_count": 17,
     "metadata": {},
     "output_type": "execute_result"
    }
   ],
   "source": [
    "err"
   ]
  },
  {
   "cell_type": "code",
   "execution_count": 18,
   "metadata": {},
   "outputs": [
    {
     "data": {
      "text/plain": [
       "[<matplotlib.lines.Line2D at 0x15925fb7af0>]"
      ]
     },
     "execution_count": 18,
     "metadata": {},
     "output_type": "execute_result"
    },
    {
     "data": {
      "image/png": "[encoded data removed]",
      "text/plain": [
       "<Figure size 640x480 with 1 Axes>"
      ]
     },
     "metadata": {},
     "output_type": "display_data"
    }
   ],
   "source": [
    "data_idx = 13\n",
    "plt.plot(inputs_y[data_idx, :].detach().numpy())\n",
    "plt.plot(outputs_y_hat[data_idx, :].detach().numpy())"
   ]
  }
 ],
 "metadata": {
  "kernelspec": {
   "display_name": "torch",
   "language": "python",
   "name": "python3"
  },
  "language_info": {
   "codemirror_mode": {
    "name": "ipython",
    "version": 3
   },
   "file_extension": ".py",
   "mimetype": "text/x-python",
   "name": "python",
   "nbconvert_exporter": "python",
   "pygments_lexer": "ipython3",
   "version": "3.9.19"
  }
 },
 "nbformat": 4,
 "nbformat_minor": 2
}
