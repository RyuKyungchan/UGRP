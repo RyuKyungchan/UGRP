{
 "cells": [
  {
   "cell_type": "code",
   "execution_count": null,
   "metadata": {},
   "outputs": [],
   "source": [
    "import pandas as pd\n",
    "import numpy as np\n",
    "import torch\n",
    "import torch.nn as nn\n",
    "import matplotlib.pyplot as plt\n",
    "from sklearn.preprocessing import MinMaxScaler\n",
    "\n",
    "from sklearn.model_selection import train_test_split\n",
    "from torch.autograd import Variable\n",
    "import torch.nn as nn\n",
    "import torch.optim as optim\n",
    "from torch.utils.data import DataLoader, TensorDataset"
   ]
  },
  {
   "cell_type": "code",
   "execution_count": null,
   "metadata": {},
   "outputs": [],
   "source": [
    "# DSP data\n",
    "data1 = pd.read_csv('../data/simulatesignalwithartifact.csv')\n",
    "data2 = pd.read_csv('../data/sine_wave.csv')\n",
    "data3 = pd.read_csv('../data/simulatesignal.csv')\n",
    "\n",
    "data1.set_index('Time', inplace=True)\n",
    "data2.set_index('Time', inplace=True)\n",
    "data3.set_index('Time', inplace=True)\n",
    "\n",
    "data1"
   ]
  },
  {
   "cell_type": "code",
   "execution_count": null,
   "metadata": {},
   "outputs": [],
   "source": [
    "plt.figure(figsize=(20,12))\n",
    "plt.subplot(3, 1, 1)\n",
    "plt.plot(data1.iloc[:,0])\n",
    "plt.title('Synthesized Signal')\n",
    "\n",
    "plt.subplot(3, 1, 2)\n",
    "plt.plot(data2.iloc[:,0])\n",
    "plt.title('Sine Wave Signal')\n",
    "\n",
    "plt.subplot(3, 1, 3)\n",
    "plt.plot(data3.iloc[:,0])\n",
    "plt.title('Original Signal')"
   ]
  },
  {
   "cell_type": "code",
   "execution_count": null,
   "metadata": {},
   "outputs": [],
   "source": [
    "# 정규화\n",
    "scaler = MinMaxScaler()\n",
    "df1 = scaler.fit_transform(data1).transpose()\n",
    "df2 = scaler.fit_transform(data3).transpose()\n",
    "\n",
    "df1.shape, df2.shape"
   ]
  },
  {
   "cell_type": "code",
   "execution_count": null,
   "metadata": {},
   "outputs": [],
   "source": [
    "X = df1\n",
    "y = df2\n",
    "\n",
    "X.shape, y.shape"
   ]
  },
  {
   "cell_type": "code",
   "execution_count": null,
   "metadata": {},
   "outputs": [],
   "source": [
    "# 훈련 세트와 검증 세트로 분할\n",
    "X_train, X_val, y_train, y_val = train_test_split(X, y, test_size=0.2, random_state=42)\n",
    "\n",
    "#PyTorch Tensor로 변환\n",
    "X_train = torch.tensor(X_train, dtype=torch.float32)\n",
    "y_train = torch.tensor(y_train, dtype=torch.float32)\n",
    "X_val = torch.tensor(X_val, dtype=torch.float32)\n",
    "y_val = torch.tensor(y_val, dtype=torch.float32)\n",
    "\n",
    "X_train.shape, y_train.shape"
   ]
  },
  {
   "cell_type": "code",
   "execution_count": null,
   "metadata": {},
   "outputs": [],
   "source": [
    "X_train = X_train.unsqueeze(1) # 배치수, 채널, Row\n",
    "y_train = y_train.unsqueeze(1)\n",
    "\n",
    "X_val = X_val.unsqueeze(1)\n",
    "y_val = y_val.unsqueeze(1)\n",
    "\n",
    "dataset = TensorDataset(X_train, y_train)\n",
    "dataloader = DataLoader(dataset, batch_size=32, shuffle=True)"
   ]
  },
  {
   "cell_type": "code",
   "execution_count": null,
   "metadata": {},
   "outputs": [],
   "source": [
    "class CNN(nn.Module):\n",
    "    def __init__(self):\n",
    "        super(CNN, self).__init__()\n",
    "        self.conv1 = nn.Conv1d(1, 16, 3, padding=1)  # Maintain length\n",
    "        self.relu1 = nn.ReLU()\n",
    "        self.conv2 = nn.Conv1d(16, 1, 3, padding=1)  # Output layer to match input dimensions\n",
    "        \n",
    "    def forward(self, x):\n",
    "        x = self.conv1(x)\n",
    "        x = self.relu1(x)\n",
    "        x = self.conv2(x)\n",
    "        return x"
   ]
  },
  {
   "cell_type": "code",
   "execution_count": null,
   "metadata": {},
   "outputs": [],
   "source": [
    "model = CNN()\n",
    "criterion = nn.MSELoss()\n",
    "optimizer = optim.Adam(model.parameters(), lr=0.01)\n",
    "\n",
    "num_epochs = 100\n",
    "\n",
    "for epoch in range(num_epochs):\n",
    "    for i,(train_, label_) in enumerate(dataloader):        \n",
    "        optimizer.zero_grad()\n",
    "        y_pred = model(train_)\n",
    "        loss = criterion(y_pred,label_)\n",
    "        loss.backward()\n",
    "        optimizer.step()\n",
    "    if (epoch+1)%5 == 0:\n",
    "        print(f'Epoch {epoch+1}/{num_epochs}, Loss: {loss.item()}')"
   ]
  },
  {
   "cell_type": "code",
   "execution_count": null,
   "metadata": {},
   "outputs": [],
   "source": [
    "# 모델 평가\n",
    "model.eval()\n",
    "with torch.no_grad():\n",
    "    val_outputs = model(X_val)\n",
    "    val_loss = criterion(val_outputs, y_val)\n",
    "    print(f'Validation Loss: {val_loss.item():.4f}')"
   ]
  },
  {
   "cell_type": "code",
   "execution_count": null,
   "metadata": {},
   "outputs": [],
   "source": [
    "val_outputs1 = val_outputs.view(200, 4000).numpy()\n",
    "y_val1 = y_val.view(200, 4000).numpy()\n",
    "\n",
    "for row in val_outputs1:\n",
    "    row[1] = (row[0]+row[2])/2 # 각 row의 2번째 원소가 padding에 의해 튀어서 조정하기\n",
    "\n",
    "\n",
    "predicted_signal = val_outputs1[0]\n",
    "actual_signal = y_val1[0]\n",
    "\n",
    "# 타임 스텝을 시간 단위로 변환\n",
    "time_steps = np.linspace(0, 2, num=4000)  \n",
    "\n",
    "plt.figure(figsize=(20, 3))\n",
    "plt.plot(time_steps, actual_signal, label='Actual Signal', color='dodgerblue')\n",
    "plt.plot(time_steps, predicted_signal, label='Predicted Signal', color='orange')\n",
    "plt.xlabel('Time (seconds)')\n",
    "plt.ylabel('Signal Value')\n",
    "plt.title('Predicted vs Actual Signal')\n",
    "plt.legend()\n",
    "plt.show()\n",
    "\n",
    "print(val_outputs1)"
   ]
  },
  {
   "cell_type": "code",
   "execution_count": null,
   "metadata": {},
   "outputs": [],
   "source": [
    "n = len(predicted_signal)\n",
    "\n",
    "fs = 2000\n",
    "freqs = np.fft.fftfreq(n, d=1/fs)[:n//2]\n",
    "\n",
    "fft_predicted = np.fft.fft(predicted_signal)\n",
    "fft_predicted = np.abs(fft_predicted[:n//2])\n",
    "fft_predicted[1:] = 2 * fft_predicted[1:]\n",
    "power_predicted = fft_predicted**2\n",
    "\n",
    "fft_actual = np.fft.fft(actual_signal)\n",
    "fft_actual = np.abs(fft_actual[:n//2])\n",
    "fft_actual[1:] = 2 * fft_actual[1:]\n",
    "power_actual = fft_actual**2\n",
    "\n",
    "# 결과 플로팅\n",
    "plt.figure(figsize=(10, 6))\n",
    "plt.plot(freqs, np.log10(power_predicted), label='Predicted Signal', color='blue')\n",
    "plt.plot(freqs, np.log10(power_actual), label='Actual Signal', color='red')\n",
    "plt.title('Power Spectrum of Predicted and Actual Signals')\n",
    "plt.xlabel('Frequency [Hz]')\n",
    "plt.ylabel('Power')\n",
    "plt.legend()\n",
    "plt.grid(True)\n",
    "plt.show()"
   ]
  }
 ],
 "metadata": {
  "kernelspec": {
   "display_name": "torch_book",
   "language": "python",
   "name": "python3"
  },
  "language_info": {
   "codemirror_mode": {
    "name": "ipython",
    "version": 3
   },
   "file_extension": ".py",
   "mimetype": "text/x-python",
   "name": "python",
   "nbconvert_exporter": "python",
   "pygments_lexer": "ipython3",
   "version": "3.8.18"
  }
 },
 "nbformat": 4,
 "nbformat_minor": 2
}
