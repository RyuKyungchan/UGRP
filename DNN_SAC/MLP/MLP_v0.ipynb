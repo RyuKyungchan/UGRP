{
  "cells": [
    {
      "cell_type": "markdown",
      "metadata": {
        "colab_type": "text",
        "id": "view-in-github"
      },
      "source": [
        "<a href=\"https://colab.research.google.com/github/RyuKyungchan/UGRP/blob/main/MLP_v2.ipynb\" target=\"_parent\"><img src=\"https://colab.research.google.com/assets/colab-badge.svg\" alt=\"Open In Colab\"/></a>"
      ]
    },
    {
      "cell_type": "code",
      "execution_count": null,
      "id": "aw0BzPqLp_Fv",
      "metadata": {
        "colab": {
          "base_uri": "https://localhost:8080/"
        },
        "id": "aw0BzPqLp_Fv",
        "outputId": "6272920b-52f8-4e31-e332-97c25aade2cb"
      },
      "outputs": [],
      "source": [
        "# !pip install neurodsp"
      ]
    },
    {
      "cell_type": "code",
      "execution_count": null,
      "id": "DSN-1q65pe1f",
      "metadata": {
        "id": "DSN-1q65pe1f"
      },
      "outputs": [],
      "source": [
        "# Import signal\n",
        "import numpy as np\n",
        "import matplotlib.pyplot as plt\n",
        "import pandas as pd\n",
        "import os\n",
        "\n",
        "# Import sim functions\n",
        "from neurodsp.sim.combined import sim_combined, sim_peak_oscillation\n",
        "from neurodsp.sim.aperiodic import sim_powerlaw\n",
        "from neurodsp.utils import set_random_seed\n",
        "\n",
        "# Import function to compute power spectra\n",
        "from neurodsp.spectral import compute_spectrum\n",
        "\n",
        "# Import utilities for plotting data\n",
        "from neurodsp.utils import create_times\n",
        "from neurodsp.plts.spectral import plot_power_spectra\n",
        "from neurodsp.plts.time_series import plot_time_series\n"
      ]
    },
    {
      "cell_type": "code",
      "execution_count": null,
      "id": "DjgjgrExpko9",
      "metadata": {
        "id": "DjgjgrExpko9"
      },
      "outputs": [],
      "source": [
        "# Set some general settings, to be used across all simulations\n",
        "num_signals = 1000\n",
        "fs = 2000 #sampling 주파수\n",
        "n_seconds = 2 #simulation 지속시간\n",
        "times = create_times(n_seconds, fs) #시간 백터\n",
        "\n",
        "# Define the components of the combined signal to simulate\n",
        "n_neurons_range = (800, 1200)  # range for number of neurons\n",
        "firing_rate_range = (2, 4)     # range for firing rate\n",
        "t_ker_range = (0.8, 1.2)       # range for t_ker\n",
        "tau_r_range = (0.001, 0.003)   # range for tau_r\n",
        "tau_d_range = (0.015, 0.025)   # range for tau_d\n",
        "freq_range = (15, 25)          # range for oscillation frequency\n",
        "amplitude_range = (5,6)   # range for amplitude_range\n",
        "\n",
        "# Sample values from the specified ranges\n",
        "n_neurons = np.random.randint(n_neurons_range[0], n_neurons_range[1] + 1)\n",
        "firing_rate = np.random.uniform(firing_rate_range[0], firing_rate_range[1])\n",
        "t_ker = np.random.uniform(t_ker_range[0], t_ker_range[1])\n",
        "tau_r = np.random.uniform(tau_r_range[0], tau_r_range[1])\n",
        "tau_d = np.random.uniform(tau_d_range[0], tau_d_range[1])\n",
        "freq = np.random.uniform(freq_range[0], freq_range[1])\n"
      ]
    },
    {
      "cell_type": "code",
      "execution_count": null,
      "id": "psPC3ZKopnFG",
      "metadata": {
        "id": "psPC3ZKopnFG"
      },
      "outputs": [],
      "source": [
        "# 초기 (0, 4000) 크기의 빈 numpy 배열 생성\n",
        "data_signal = np.empty((0, len(times)))\n",
        "data_signal_with_sine = np.empty((0, len(times)))\n",
        "data_sine_wave = np.empty((0, len(times)))"
      ]
    },
    {
      "cell_type": "code",
      "execution_count": null,
      "id": "bWJnAeD8poqK",
      "metadata": {
        "colab": {
          "base_uri": "https://localhost:8080/"
        },
        "id": "bWJnAeD8poqK",
        "outputId": "9059a4c7-2c94-4e00-c807-5fec0c595896"
      },
      "outputs": [],
      "source": [
        "for idx in range(num_signals):\n",
        "    components = {\n",
        "        'sim_synaptic_current': {\n",
        "        'n_neurons': n_neurons,\n",
        "        'firing_rate': firing_rate,\n",
        "        't_ker': t_ker,\n",
        "        'tau_r': tau_r,\n",
        "        'tau_d': tau_d\n",
        "        },\n",
        "        'sim_oscillation': {\n",
        "        'freq': freq\n",
        "        }\n",
        "    }\n",
        "    # Simulate an oscillation over an aperiodic component\n",
        "    signal = sim_combined(n_seconds, fs, components)\n",
        "\n",
        "    # Generate a 130 Hz sine wave\n",
        "    amplitude = np.random.uniform(amplitude_range[0], amplitude_range[1])\n",
        "    t = np.arange(0, n_seconds, 1/fs)\n",
        "    sine_wave = amplitude * np.sin(2 * np.pi * 130 * t)\n",
        "\n",
        "    # Add the sine wave to the simulated signal\n",
        "    signal_with_sine = signal + sine_wave\n",
        "\n",
        "    # Add the signal as a new raw in the numpy array\n",
        "    data_signal = np.vstack((data_signal, signal))\n",
        "    data_signal_with_sine = np.vstack((data_signal_with_sine, signal_with_sine))\n",
        "    data_sine_wave = np.vstack((data_sine_wave, sine_wave))\n",
        "\n",
        "# data_signal의 shape 확인\n",
        "print(data_signal.shape)\n",
        "print(data_signal_with_sine.shape)\n",
        "print(data_sine_wave.shape)"
      ]
    },
    {
      "cell_type": "code",
      "execution_count": null,
      "id": "fb138896",
      "metadata": {
        "id": "fb138896"
      },
      "outputs": [],
      "source": [
        "# MLP"
      ]
    },
    {
      "cell_type": "code",
      "execution_count": null,
      "id": "f3452459",
      "metadata": {
        "id": "f3452459"
      },
      "outputs": [],
      "source": [
        "import os\n",
        "import time\n",
        "\n",
        "import numpy as np\n",
        "import pandas as pd\n",
        "import matplotlib.pyplot as plt\n",
        "\n",
        "import torch\n",
        "import torch.nn as nn\n",
        "from torch.utils.data import TensorDataset, DataLoader\n",
        "from torch.autograd import Variable\n",
        "from tqdm import tqdm_notebook\n",
        "import torch.nn.functional as F\n",
        "from sklearn.preprocessing import StandardScaler, MinMaxScaler\n",
        "from sklearn.model_selection import train_test_split\n",
        "from sklearn.metrics import mean_absolute_error\n",
        "\n",
        "import torchvision\n",
        "import torchvision.transforms as transforms\n",
        "from torch.utils.data import Dataset, DataLoader"
      ]
    },
    {
      "cell_type": "code",
      "execution_count": null,
      "id": "f1a4a381",
      "metadata": {
        "id": "f1a4a381"
      },
      "outputs": [],
      "source": [
        "device = torch.device(\"cuda:0\" if torch.cuda.is_available() else \"cpu\")"
      ]
    },
    {
      "cell_type": "code",
      "execution_count": null,
      "id": "ba4a15d5",
      "metadata": {
        "colab": {
          "base_uri": "https://localhost:8080/"
        },
        "id": "ba4a15d5",
        "outputId": "74fe2dd7-3f81-45fc-b493-b763009d41fd"
      },
      "outputs": [],
      "source": [
        "X = data_signal_with_sine\n",
        "y = data_signal\n",
        "\n",
        "# data_signal의 shape 확인\n",
        "print(data_signal.shape)\n",
        "print(data_signal_with_sine.shape)\n",
        "print(data_sine_wave.shape)"
      ]
    },
    {
      "cell_type": "code",
      "execution_count": null,
      "id": "Lxr9QerSOb6X",
      "metadata": {
        "colab": {
          "base_uri": "https://localhost:8080/",
          "height": 601
        },
        "id": "Lxr9QerSOb6X",
        "outputId": "86ba6dec-2afb-4372-de05-dac1518284a2"
      },
      "outputs": [],
      "source": [
        "# example for loading data\n",
        "plt.figure(figsize=(20,12))\n",
        "plt.subplot(3, 1, 1)\n",
        "plt.plot(data_signal[0, :])\n",
        "plt.subplot(3, 1, 2)\n",
        "plt.plot(data_sine_wave[0, :])\n",
        "plt.subplot(3, 1, 3)\n",
        "plt.plot(data_signal_with_sine[0, :])\n",
        "plt.show()"
      ]
    },
    {
      "cell_type": "code",
      "execution_count": null,
      "id": "zcnOMKIXM-0Q",
      "metadata": {
        "colab": {
          "base_uri": "https://localhost:8080/"
        },
        "id": "zcnOMKIXM-0Q",
        "outputId": "a2ad3a2d-1c93-4e0d-e1e9-7ea5e529d29e"
      },
      "outputs": [],
      "source": [
        "# train/test 데이터셋 분리 (70% train, 30% test)\n",
        "X_train, X_test, y_train, y_test = train_test_split(X, y, test_size=0.3, random_state=42)\n",
        "\n",
        "y_test1 = y_test\n",
        "\n",
        "# numpy array를 tensor로 변환\n",
        "X_train = torch.tensor(X_train, dtype=torch.float32)\n",
        "X_test = torch.tensor(X_test, dtype=torch.float32)\n",
        "y_train = torch.tensor(y_train, dtype=torch.float32)\n",
        "y_test = torch.tensor(y_test, dtype=torch.float32)\n",
        "\n",
        "# StandardScaler를 사용하여 데이터 스케일링\n",
        "scaler_x = StandardScaler()\n",
        "scaler_y = StandardScaler()\n",
        "\n",
        "x_train_scaled = scaler_x.fit_transform(X_train)\n",
        "x_test_scaled = scaler_x.transform(X_test)\n",
        "y_train_scaled = scaler_y.fit_transform(y_train)\n",
        "y_test_scaled = scaler_y.transform(y_test)\n",
        "\n",
        "# 차원 추가\n",
        "x_train_scaled = x_train_scaled.reshape((700, 4000, 1))\n",
        "\n",
        "# 데이터셋 크기 확인\n",
        "print(f\"x_train_scaled shape: {x_train_scaled.shape}\")\n",
        "print(f\"y_train_scaled shape: {y_train_scaled.shape}\")\n",
        "\n",
        "# TensorDataset을 사용하여 데이터셋 생성\n",
        "train_dataset = TensorDataset(torch.tensor(x_train_scaled, dtype=torch.float32), torch.tensor(y_train_scaled, dtype=torch.float32))\n",
        "test_dataset = TensorDataset(torch.tensor(x_test_scaled, dtype=torch.float32), torch.tensor(y_test_scaled, dtype=torch.float32))\n",
        "\n",
        "train_loader = DataLoader(dataset=train_dataset, batch_size=32, shuffle=True)\n",
        "test_loader = DataLoader(dataset=test_dataset, batch_size=32, shuffle=False)\n",
        "\n"
      ]
    },
    {
      "cell_type": "code",
      "execution_count": null,
      "id": "-7ZaiTDlNECt",
      "metadata": {
        "colab": {
          "base_uri": "https://localhost:8080/"
        },
        "id": "-7ZaiTDlNECt",
        "outputId": "1f007c72-2a5e-4980-86d8-f67e92a80209"
      },
      "outputs": [],
      "source": [
        "# DNN 모델 정의\n",
        "class BrainSignalDNN(nn.Module):\n",
        "    def __init__(self):\n",
        "        super(BrainSignalDNN, self).__init__()\n",
        "        self.fc1 = nn.Linear(in_features=x_train_scaled.shape[2], out_features=256)\n",
        "        self.drop = nn.Dropout(0.25)\n",
        "        self.fc2 = nn.Linear(in_features=256, out_features=128)\n",
        "        self.fc3 = nn.Linear(in_features=128, out_features=64)\n",
        "        self.fc4 = nn.Linear(in_features=64, out_features=1)\n",
        "\n",
        "    def forward(self, input_data):\n",
        "        #print(\"input shape: \", input_data.shape)\n",
        "        x = F.relu(self.fc1(input_data))\n",
        "        x = self.drop(x)\n",
        "        x = F.relu(self.fc2(x))\n",
        "        x = self.drop(x)\n",
        "        x = F.relu(self.fc3(x))\n",
        "        x = self.drop(x)\n",
        "        x = self.fc4(x).squeeze(-1)\n",
        "        return x\n",
        "\n",
        "# 심층 신경망에서 필요한 파라미터 정의\n",
        "learning_rate = 0.001\n",
        "model = BrainSignalDNN().to(device)\n",
        "\n",
        "criterion = nn.MSELoss()\n",
        "optimizer = torch.optim.Adam(model.parameters(), lr=learning_rate);\n",
        "print(model)\n"
      ]
    },
    {
      "cell_type": "code",
      "execution_count": null,
      "id": "zAVhiOx8NIbf",
      "metadata": {
        "colab": {
          "base_uri": "https://localhost:8080/"
        },
        "collapsed": true,
        "id": "zAVhiOx8NIbf",
        "outputId": "fca32f2d-4db4-4d4e-eae8-476942455ffe"
      },
      "outputs": [],
      "source": [
        "# 모델 학습\n",
        "num_epochs = 1000\n",
        "count = 0\n",
        "loss_list = []\n",
        "iteration_list = []\n",
        "accuracy_list = []\n",
        "\n",
        "predictions_list = []\n",
        "labels_list = []\n",
        "\n",
        "for epoch in range(num_epochs):\n",
        "    for i, (features, labels) in enumerate(train_loader):\n",
        "        features, labels = features.to(device), labels.to(device)\n",
        "\n",
        "        train = features.view(features.shape[0], 4000, 1)\n",
        "\n",
        "        # Forward pass\n",
        "        outputs = model(train)\n",
        "        loss = criterion(outputs, labels)\n",
        "\n",
        "        # Backward and optimize\n",
        "        optimizer.zero_grad()\n",
        "        loss.backward()\n",
        "        optimizer.step()\n",
        "\n",
        "    if (epoch+1) % 50 == 0:\n",
        "        print(f\"Epoch [{epoch+1}/{num_epochs}], Step [{i+1}/{len(train_loader)}], Loss: {loss.item():.4f}\")\n",
        "\n",
        "    loss_list.append(loss.item())\n",
        "    iteration_list.append(epoch+1)\n"
      ]
    },
    {
      "cell_type": "code",
      "execution_count": null,
      "id": "jynAV_eQjs4Y",
      "metadata": {
        "colab": {
          "base_uri": "https://localhost:8080/",
          "height": 433
        },
        "id": "jynAV_eQjs4Y",
        "outputId": "16f12656-91f4-4786-b3a7-7fc0e97ecdda"
      },
      "outputs": [],
      "source": [
        "# 모델 평가\n",
        "model.eval()\n",
        "with torch.no_grad():\n",
        "    y_pred_list = []\n",
        "    for features, labels in test_loader:\n",
        "        features, labels = features.to(device), labels.to(device)\n",
        "        features = features.view(features.shape[0], 4000, 1)\n",
        "        outputs = model(features)\n",
        "        y_pred_list.append(outputs.cpu().numpy())\n",
        "\n",
        "y_pred = np.concatenate(y_pred_list, axis=0)\n",
        "y_pred = scaler_y.inverse_transform(y_pred)\n",
        "\n",
        "# y_test = y_test.numpy()\n",
        "# y_test = scaler_y.inverse_transform(y_test_scaled)\n",
        "\n",
        "y_test = y_test1\n",
        "print(\"y_test shape\", y_test.shape)\n",
        "\n",
        "mse_loss = mean_absolute_error(y_test, y_pred)\n",
        "print(f\"Mean Squared Error: {mse_loss}\")\n",
        "\n",
        "criterion = nn.MSELoss()\n",
        "y_test_tensor = torch.tensor(y_test, dtype=torch.float32)\n",
        "y_pred_tensor = torch.tensor(y_pred, dtype=torch.float32)\n",
        "mse_loss = criterion(y_test_tensor, y_pred_tensor)\n",
        "print(f\"Mean Squared Error: {mse_loss.item()}\")\n",
        "\n",
        "# 결과 시각화\n",
        "plt.figure(figsize=(20,3))\n",
        "slice_size = 5\n",
        "plt.plot(y_test[0], label='Actual Clean Signal')\n",
        "plt.plot(y_pred[0], label='Predicted Clean Signal', alpha=0.7)\n",
        "\n",
        "plt.legend()\n",
        "plt.title('Actual vs Predicted Clean Brain Signals')\n",
        "plt.show()"
      ]
    },
    {
      "cell_type": "code",
      "execution_count": null,
      "id": "757aded6",
      "metadata": {},
      "outputs": [],
      "source": [
        "n = len(predicted_signal)\n",
        "\n",
        "fs = 2000\n",
        "freqs = np.fft.fftfreq(n, d=1/fs)[:n//2]\n",
        "\n",
        "fft_predicted = np.fft.fft(predicted_signal)\n",
        "fft_predicted = np.abs(fft_predicted[:n//2])\n",
        "fft_predicted[1:] = 2 * fft_predicted[1:]\n",
        "power1 = fft_predicted**2\n",
        "\n",
        "fft_actual = np.fft.fft(actual_signal)\n",
        "fft_actual = np.abs(fft_actual[:n//2])\n",
        "fft_actual[1:] = 2 * fft_actual[1:]\n",
        "power2 = fft_actual**2\n",
        "\n",
        "# 결과 플로팅\n",
        "plt.figure(figsize=(10, 6))\n",
        "plt.plot(freqs, np.log10(power1), label='Non-Filtered Signal', color='blue')\n",
        "plt.plot(freqs, np.log10(power2), label='Filtered Signal', color='red')\n",
        "plt.title('Power Spectrum of Non-Filtered and Filtered Signals')\n",
        "plt.xlabel('Frequency [Hz]')\n",
        "plt.ylabel('Power')\n",
        "plt.legend()\n",
        "plt.grid(True)\n",
        "plt.show()"
      ]
    }
  ],
  "metadata": {
    "accelerator": "GPU",
    "colab": {
      "include_colab_link": true,
      "provenance": []
    },
    "kernelspec": {
      "display_name": "torch_book",
      "language": "python",
      "name": "python3"
    },
    "language_info": {
      "codemirror_mode": {
        "name": "ipython",
        "version": 3
      },
      "file_extension": ".py",
      "mimetype": "text/x-python",
      "name": "python",
      "nbconvert_exporter": "python",
      "pygments_lexer": "ipython3",
      "version": "3.8.18"
    }
  },
  "nbformat": 4,
  "nbformat_minor": 5
}
