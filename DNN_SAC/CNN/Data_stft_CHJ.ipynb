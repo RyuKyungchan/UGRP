{
 "cells": [
  {
   "cell_type": "code",
   "execution_count": 1,
   "metadata": {},
   "outputs": [],
   "source": [
    "import numpy as np\n",
    "import torch\n",
    "import torch.nn as nn\n",
    "import torch.nn.functional as F\n",
    "from scipy.signal import stft\n",
    "import matplotlib.pyplot as plt\n",
    "from neurodsp.utils import create_times\n",
    "\n",
    "# 샘플 데이터 생성\n",
    "fpath = \"../../data/DNN_data/v3/\"\n",
    "\n",
    "x_data = np.load(fpath + \"data_with_non_sine_v2_varying\" + \".npy\")\n",
    "y_data = np.load(fpath + \"data_signal\" + \".npy\")\n",
    "\n",
    "# Set some general settings, to be used across all simulations\n",
    "fs = 2000\n",
    "num_signals = 1000\n",
    "\n",
    "# Simulation settings\n",
    "n_seconds = 2\n",
    "times = create_times(n_seconds, fs)\n",
    "\n",
    "fft_win_time = 1  # 윈도우 길이 (초)\n",
    "n_fft = fft_win_time * fs  # FFT 윈도우 크기, 2000 샘플\n",
    "fft_overlap_time = fft_win_time / 2 * fs  # 오버랩 크기, 1000 샘플, 50%\n"
   ]
  },
  {
   "cell_type": "code",
   "execution_count": 2,
   "metadata": {},
   "outputs": [
    {
     "name": "stdout",
     "output_type": "stream",
     "text": [
      "x_power_spectra shape: (1000, 1001, 5)\n",
      "y_power_spectra shape: (1000, 1001, 5)\n"
     ]
    }
   ],
   "source": [
    "def compute_power_spectrum(data, fs, n_fft, overlap):\n",
    "    power_spectra = []\n",
    "    for sample in data:\n",
    "        f, t, Zxx = stft(sample, fs=fs, nperseg=n_fft, noverlap=overlap)\n",
    "        power_spectrum = np.abs(Zxx) ** 2  # 파워 스펙트럼 계산\n",
    "        power_spectra.append(power_spectrum)\n",
    "    return np.array(power_spectra)\n",
    "\n",
    "x_power_spectra = compute_power_spectrum(x_data, fs, n_fft, fft_overlap_time)\n",
    "y_power_spectra = compute_power_spectrum(y_data, fs, n_fft, fft_overlap_time)\n",
    "\n",
    "print(f\"x_power_spectra shape: {x_power_spectra.shape}\")\n",
    "print(f\"y_power_spectra shape: {y_power_spectra.shape}\")"
   ]
  },
  {
   "cell_type": "code",
   "execution_count": 3,
   "metadata": {},
   "outputs": [
    {
     "name": "stdout",
     "output_type": "stream",
     "text": [
      "x_power_spectra tensor shape: torch.Size([1000, 1, 1001, 5])\n",
      "y_power_spectra tensor shape: torch.Size([1000, 1, 1001, 5])\n"
     ]
    }
   ],
   "source": [
    "x_power_spectra = torch.tensor(x_power_spectra, dtype=torch.float32)\n",
    "y_power_spectra = torch.tensor(y_power_spectra, dtype=torch.float32)\n",
    "\n",
    "# 데이터에 채널 차원 추가 (N, C, H, W 형식)\n",
    "x_power_spectra = x_power_spectra.unsqueeze(1)\n",
    "y_power_spectra = y_power_spectra.unsqueeze(1)\n",
    "\n",
    "print(f\"x_power_spectra tensor shape: {x_power_spectra.shape}\")\n",
    "print(f\"y_power_spectra tensor shape: {y_power_spectra.shape}\")"
   ]
  },
  {
   "cell_type": "code",
   "execution_count": 4,
   "metadata": {},
   "outputs": [
    {
     "data": {
      "image/png": "[encoded data removed]",
      "text/plain": [
       "<Figure size 1000x600 with 2 Axes>"
      ]
     },
     "metadata": {},
     "output_type": "display_data"
    }
   ],
   "source": [
    "# 결과 확인\n",
    "# 특정 채널과 특정 윈도우의 파워 스펙트럼 계산 (예시로 첫 번째 윈도우와 첫 번째 채널)\n",
    "power_spectrum = np.abs(x_power_spectra[0, 0, :]) ** 2\n",
    "\n",
    "# 그래프 그리기\n",
    "plt.figure(figsize=(10, 6))\n",
    "plt.pcolormesh(power_spectrum.T)\n",
    "plt.colorbar(label='Power')\n",
    "plt.xlabel('Time Window')\n",
    "plt.ylabel('Frequency Bin')\n",
    "plt.title('Power Spectrum')\n",
    "plt.show()"
   ]
  },
  {
   "cell_type": "code",
   "execution_count": 5,
   "metadata": {},
   "outputs": [],
   "source": [
    "# class SimpleCNN(nn.Module):\n",
    "#     def __init__(self):\n",
    "#         super(SimpleCNN, self).__init__()\n",
    "#         self.conv1 = nn.Conv2d(1, 16, kernel_size=3, stride=1, padding=1)\n",
    "#         self.pool = nn.MaxPool2d(kernel_size=2, stride=2, padding=0)\n",
    "#         self.conv2 = nn.Conv2d(16, 32, kernel_size=3, stride=1, padding=1)\n",
    "        \n",
    "#         # 임의의 입력으로 텐서 크기 계산\n",
    "#         dummy_input = torch.zeros(1, 1, n_fft//2 + 1, x_power_spectra.size(-1))\n",
    "#         dummy_output = self._forward_conv(dummy_input)\n",
    "#         self.flattened_size = dummy_output.numel()\n",
    "        \n",
    "#         self.fc1 = nn.Linear(self.flattened_size, 128)\n",
    "#         self.fc2 = nn.Linear(128, 2)  # 2개의 클래스 (x, y)\n",
    "\n",
    "#     def _forward_conv(self, x):\n",
    "#         x = self.pool(F.relu(self.conv1(x)))\n",
    "#         x = self.pool(F.relu(self.conv2(x)))\n",
    "#         return x\n",
    "\n",
    "#     def forward(self, x):\n",
    "#         x = self._forward_conv(x)\n",
    "#         x = x.view(x.size(0), -1)\n",
    "#         x = F.relu(self.fc1(x))\n",
    "#         x = self.fc2(x)\n",
    "#         return x\n",
    "\n",
    "# model = SimpleCNN()\n",
    "# print(model)\n"
   ]
  },
  {
   "cell_type": "code",
   "execution_count": 6,
   "metadata": {},
   "outputs": [],
   "source": [
    "# criterion = nn.CrossEntropyLoss()\n",
    "# optimizer = torch.optim.Adam(model.parameters(), lr=0.001)"
   ]
  },
  {
   "cell_type": "code",
   "execution_count": 7,
   "metadata": {},
   "outputs": [],
   "source": [
    "# # 예제 레이블 생성\n",
    "# labels = torch.cat((torch.zeros(1000, dtype=torch.long), torch.ones(1000, dtype=torch.long)))\n",
    "\n",
    "# # 데이터 합치기\n",
    "# data = torch.cat((x_power_spectra, y_power_spectra))\n",
    "# dataset = torch.utils.data.TensorDataset(data, labels)\n",
    "# dataloader = torch.utils.data.DataLoader(dataset, batch_size=32, shuffle=True)\n",
    "\n",
    "# # 훈련 루프\n",
    "# num_epochs = 10\n",
    "# for epoch in range(num_epochs):\n",
    "#     running_loss = 0.0\n",
    "#     for inputs, labels in dataloader:\n",
    "#         optimizer.zero_grad()\n",
    "#         outputs = model(inputs)\n",
    "#         loss = criterion(outputs, labels)\n",
    "#         loss.backward()\n",
    "#         optimizer.step()\n",
    "#         running_loss += loss.item()\n",
    "    \n",
    "#     print(f\"Epoch {epoch + 1}, Loss: {running_loss / len(dataloader)}\")\n",
    "\n",
    "# print(\"Training completed\")"
   ]
  }
 ],
 "metadata": {
  "kernelspec": {
   "display_name": "Python 3",
   "language": "python",
   "name": "python3"
  },
  "language_info": {
   "codemirror_mode": {
    "name": "ipython",
    "version": 3
   },
   "file_extension": ".py",
   "mimetype": "text/x-python",
   "name": "python",
   "nbconvert_exporter": "python",
   "pygments_lexer": "ipython3",
   "version": "3.8.18"
  }
 },
 "nbformat": 4,
 "nbformat_minor": 2
}
