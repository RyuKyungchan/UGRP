{
 "cells": [
  {
   "cell_type": "code",
   "execution_count": null,
   "metadata": {},
   "outputs": [],
   "source": [
    "import numpy as np\n",
    "\n",
    "import torch\n",
    "import torch.nn as nn\n",
    "import torch.optim as optim\n",
    "from torch.autograd import Variable\n",
    "import torch.nn.functional as F\n",
    "\n",
    "from sklearn.model_selection import train_test_split\n",
    "\n",
    "import matplotlib.pyplot as plt\n",
    "\n",
    "device = torch.device(\"cuda:0\" if torch.cuda.is_available() else \"cpu\")\n",
    "device"
   ]
  },
  {
   "cell_type": "code",
   "execution_count": 3,
   "metadata": {},
   "outputs": [
    {
     "name": "stdout",
     "output_type": "stream",
     "text": [
      "(2188, 25, 251, 9, 21)\n",
      "(2188, 21, 50000)\n",
      "(2188, 17)\n"
     ]
    }
   ],
   "source": [
    "# fpath = 'C:/Users/stell/data/'\n",
    "fpath = 'E:/SNUH_EEG_data/EEG_data/'\n",
    "\n",
    "x_stft = np.load(fpath + 'stft_x_tlen4_corrected.npy') # num_data, num_window, num_freqs, num_time, num_ch (2188, 25, 251, 9, 21)\n",
    "x = np.load(fpath + 'x_correct.npy') # num_data, num_ch, num_time_points (2188, 21, 50000)\n",
    "y = np.load(fpath + 'y_correct.npy') # num_data, symptoms (2188, 17)\n",
    "\n",
    "print(x_stft.shape)\n",
    "print(x.shape)\n",
    "print(y.shape)"
   ]
  },
  {
   "cell_type": "code",
   "execution_count": 4,
   "metadata": {},
   "outputs": [
    {
     "name": "stdout",
     "output_type": "stream",
     "text": [
      "[ -48.805756+0.j  128.58377 +0.j  125.954605+0.j  -28.771269+0.j\n",
      " -111.53321 +0.j   72.64079 +0.j   81.4202  +0.j  -28.337587+0.j\n",
      "    8.03219 +0.j  167.07208 +0.j  415.81134 +0.j  171.02844 +0.j\n",
      " -309.4283  +0.j -369.30115 +0.j  -68.63318 +0.j -200.64812 +0.j\n",
      " -121.940384+0.j  -82.856445+0.j  178.7245  +0.j -190.2455  +0.j\n",
      "   77.22679 +0.j]\n",
      "(-48.805756+0j)\n"
     ]
    }
   ],
   "source": [
    "fs = 500\n",
    "t_len = 4\n",
    "total_t_len = 100\n",
    "num_win = int(total_t_len/t_len) # 25\n",
    "\n",
    "fft_win_time = 1\n",
    "n_fft = fft_win_time * fs # 500\n",
    "fft_overlap_time = fft_win_time/2*fs\n",
    "freqs = torch.fft.rfftfreq(n_fft, 1 / fs)\n",
    "\n",
    "print(x_stft[0][0][0][0]) # 21 channel 당 값\n",
    "print(x_stft[0][0][0][0][0]) # 한 채널 당 값"
   ]
  },
  {
   "cell_type": "markdown",
   "metadata": {},
   "source": [
    "###### total time 100 sec를 4 sec씩 자름 -> num_window = 25개\n",
    "###### 4 sec를 1 sec win_time씩 fft (overlap_time = 1/2 sec) -> 9번 fft -> stft 결과물 num_time_window =9, num_freqs_window =251"
   ]
  },
  {
   "cell_type": "code",
   "execution_count": 6,
   "metadata": {},
   "outputs": [
    {
     "name": "stdout",
     "output_type": "stream",
     "text": [
      "[0.33333333 0.         0.         0.         0.         0.\n",
      " 1.         0.         0.         0.         0.         0.\n",
      " 0.         0.         0.         0.         0.        ]\n",
      "0.0\n",
      "1.0\n",
      "[0.33333333 0.         0.         0.         0.         0.\n",
      " 1.         0.         0.         0.         0.         0.\n",
      " 0.         0.         0.         0.         0.        ]\n",
      "-99.71658325195312\n",
      "99.81100463867188\n"
     ]
    }
   ],
   "source": [
    "print(y[0])\n",
    "# min-max normalization\n",
    "print(np.min(y))\n",
    "print(np.max(y))\n",
    "y = (y - np.min(y)) / (np.max(y) - np.min(y))\n",
    "print(y[0])"
   ]
  },
  {
   "cell_type": "code",
   "execution_count": 7,
   "metadata": {},
   "outputs": [],
   "source": [
    "X_train, X_test, Y_train, Y_test = train_test_split(x, y, \n",
    "                                                        test_size=0.2, random_state=100)\n",
    "\n",
    "num_batch, num_ch, num_time_points = X_train.shape\n",
    "X_train = torch.reshape(torch.tensor(X_train), (num_batch, num_ch, num_win, 2000))  # B x C x window x T         [1750, 21, 25, 2000]\n",
    "X_train = X_train.permute(0, 2, 1, 3)   # B x window x C x T\n",
    "X_train = torch.reshape(X_train, (X_train.shape[0]*X_train.shape[1], X_train.shape[2], X_train.shape[3]))   # B*window x C x T         [438*25, 21, 2000]\n",
    "Y_train = torch.tensor(Y_train)\n",
    "\n",
    "num_batch, num_ch, num_time_points = X_test.shape\n",
    "X_test = torch.reshape(torch.tensor(X_test), (num_batch, num_ch, num_win, 2000))    # B x C x window x T         [438, 21, 25, 2000]\n",
    "X_test = X_test.permute(0, 2, 1, 3)     # B x window x C x T\n",
    "X_test = torch.reshape(X_test, (X_test.shape[0]*X_test.shape[1], X_test.shape[2], X_test.shape[3])) # B*window x C x T         [438*25, 21, 2000]\n",
    "Y_test = torch.tensor(Y_test)"
   ]
  },
  {
   "cell_type": "code",
   "execution_count": 8,
   "metadata": {},
   "outputs": [
    {
     "name": "stdout",
     "output_type": "stream",
     "text": [
      "torch.Size([43750, 21, 2000])\n",
      "torch.Size([1750, 17])\n",
      "torch.Size([10950, 21, 2000])\n",
      "torch.Size([438, 17])\n"
     ]
    }
   ],
   "source": [
    "print(X_train.shape)    # B*window x C x T         [43750, 21, 2000]\n",
    "print(Y_train.shape)    # B x C x symptom          [1750, 17]\n",
    "print(X_test.shape)     # B*window x C x T         [10950, 21, 2000]\n",
    "print(Y_test.shape)     # B x C x symptom          [438, 17]"
   ]
  },
  {
   "cell_type": "code",
   "execution_count": 9,
   "metadata": {},
   "outputs": [],
   "source": [
    "class ConvBlock(nn.Module):\n",
    "    def __init__(self, in_channels, out_channels, kernel_size, dilation, final=False):\n",
    "        super().__init__()\n",
    "        self.conv1 = nn.Conv1d(in_channels, out_channels, kernel_size, dilation=dilation, padding='same')\n",
    "        self.conv2 = nn.Conv1d(out_channels, out_channels, kernel_size, dilation=dilation, padding='same')\n",
    "        self.projector = nn.Conv1d(in_channels, out_channels, 1) if in_channels != out_channels or final else None\n",
    "\n",
    "    def forward(self, x):\n",
    "        residual = x if self.projector is None else self.projector(x)\n",
    "        x = F.gelu(x)\n",
    "        x = self.conv1(x)\n",
    "        x = F.gelu(x)\n",
    "        x = self.conv2(x)\n",
    "        return x + residual\n",
    "    \n",
    "class simpleCNN2d(nn.Module):\n",
    "    def __init__(self, in_dims, hidden_dims, out_dims, num_time, kernel_size, num_layers):\n",
    "        super().__init__()\n",
    "\n",
    "        self.fc1 = nn.Linear(in_dims, hidden_dims)\n",
    "        self.dropout = nn.Dropout(0.1)\n",
    "        self.gelu = nn.GELU()\n",
    "        self.relu = nn.ReLU()\n",
    "\n",
    "        channels = [hidden_dims] * (num_layers + 1)\n",
    "\n",
    "        self.net = nn.Sequential(*[\n",
    "            ConvBlock(\n",
    "                channels[i-1] if i > 0 else hidden_dims,\n",
    "                channels[i],\n",
    "                kernel_size=kernel_size,\n",
    "                dilation=1,\n",
    "                final=(i == len(channels)-1)\n",
    "            )\n",
    "            for i in range(len(channels)) # layer 수 만큼\n",
    "        ])\n",
    "        \n",
    "        self.squeeze_ch = nn.Conv1d(hidden_dims, 1, 1)\n",
    "\n",
    "        self.fc2 = nn.Linear(num_time, out_dims)\n",
    "\n",
    "    def forward(self, x): # x: B x C x T\n",
    "        x = self.gelu(self.dropout(self.fc1(x.permute(0, 2, 1)))) # x: B x T x C\n",
    "        x = x.permute(0, 2, 1) # x: B x C x T\n",
    "        x = self.net(x) # x: B x C x T\n",
    "        x = self.gelu(self.squeeze_ch(x)).squeeze(1) # x: B x 1 x T -> B x T\n",
    "        x = self.fc2(x) # x: B x out_dims\n",
    "        x = self.relu(x) # x: B x out_dims\n",
    "        return x"
   ]
  },
  {
   "cell_type": "code",
   "execution_count": 10,
   "metadata": {},
   "outputs": [],
   "source": [
    "cycle_l1_loss = nn.L1Loss(reduction='sum')"
   ]
  },
  {
   "cell_type": "code",
   "execution_count": 11,
   "metadata": {},
   "outputs": [
    {
     "data": {
      "text/plain": [
       "torch.Size([43750, 21, 2000])"
      ]
     },
     "execution_count": 11,
     "metadata": {},
     "output_type": "execute_result"
    }
   ],
   "source": [
    "X_train.shape"
   ]
  },
  {
   "cell_type": "code",
   "execution_count": 12,
   "metadata": {},
   "outputs": [
    {
     "data": {
      "text/plain": [
       "(2188, 21, 50000)"
      ]
     },
     "execution_count": 12,
     "metadata": {},
     "output_type": "execute_result"
    }
   ],
   "source": [
    "x.shape"
   ]
  },
  {
   "cell_type": "code",
   "execution_count": 24,
   "metadata": {},
   "outputs": [
    {
     "name": "stdout",
     "output_type": "stream",
     "text": [
      "Epoch: [1/100], loss: 10.124575\n",
      "Epoch: [2/100], loss: 17.579170\n",
      "Epoch: [3/100], loss: 13.471107\n",
      "Epoch: [4/100], loss: 15.502775\n",
      "Epoch: [5/100], loss: 13.268649\n",
      "Epoch: [6/100], loss: 13.659594\n",
      "Epoch: [7/100], loss: 23.256443\n",
      "Epoch: [8/100], loss: 15.688007\n",
      "Epoch: [9/100], loss: 20.979416\n",
      "Epoch: [10/100], loss: 14.138585\n",
      "Epoch: [11/100], loss: 12.452477\n",
      "Epoch: [12/100], loss: 17.132711\n",
      "Epoch: [13/100], loss: 14.586010\n",
      "Epoch: [14/100], loss: 14.926784\n",
      "Epoch: [15/100], loss: 14.095595\n",
      "Epoch: [16/100], loss: 10.458994\n",
      "Epoch: [17/100], loss: 15.330668\n",
      "Epoch: [18/100], loss: 12.626156\n",
      "Epoch: [19/100], loss: 17.314339\n",
      "Epoch: [20/100], loss: 14.735289\n",
      "Epoch: [21/100], loss: 12.622069\n",
      "Epoch: [22/100], loss: 12.063026\n",
      "Epoch: [23/100], loss: 15.162788\n",
      "Epoch: [24/100], loss: 11.093580\n",
      "Epoch: [25/100], loss: 9.624737\n",
      "Epoch: [26/100], loss: 12.876577\n",
      "Epoch: [27/100], loss: 12.530445\n",
      "Epoch: [28/100], loss: 14.542026\n",
      "Epoch: [29/100], loss: 14.163343\n",
      "Epoch: [30/100], loss: 10.852467\n",
      "Epoch: [31/100], loss: 13.855509\n",
      "Epoch: [32/100], loss: 6.729021\n",
      "Epoch: [33/100], loss: 8.663847\n",
      "Epoch: [34/100], loss: 8.712804\n",
      "Epoch: [35/100], loss: 10.143211\n",
      "Epoch: [36/100], loss: 9.505533\n",
      "Epoch: [37/100], loss: 8.189841\n",
      "Epoch: [38/100], loss: 11.683769\n",
      "Epoch: [39/100], loss: 9.408699\n",
      "Epoch: [40/100], loss: 13.068877\n",
      "Epoch: [41/100], loss: 8.389139\n",
      "Epoch: [42/100], loss: 8.331800\n",
      "Epoch: [43/100], loss: 7.177491\n",
      "Epoch: [44/100], loss: 6.161229\n",
      "Epoch: [45/100], loss: 4.726066\n",
      "Epoch: [46/100], loss: 9.331476\n",
      "Epoch: [47/100], loss: 11.796659\n",
      "Epoch: [48/100], loss: 8.529997\n",
      "Epoch: [49/100], loss: 10.918233\n",
      "Epoch: [50/100], loss: 8.297434\n",
      "Epoch: [51/100], loss: 7.281986\n",
      "Epoch: [52/100], loss: 6.509568\n",
      "Epoch: [53/100], loss: 9.977951\n",
      "Epoch: [54/100], loss: 9.127506\n",
      "Epoch: [55/100], loss: 6.128143\n",
      "Epoch: [56/100], loss: 7.330936\n",
      "Epoch: [57/100], loss: 4.841813\n",
      "Epoch: [58/100], loss: 5.532315\n",
      "Epoch: [59/100], loss: 7.991831\n",
      "Epoch: [60/100], loss: 8.523487\n",
      "Epoch: [61/100], loss: 7.478689\n",
      "Epoch: [62/100], loss: 6.308883\n",
      "Epoch: [63/100], loss: 8.842981\n",
      "Epoch: [64/100], loss: 4.387663\n",
      "Epoch: [65/100], loss: 8.780142\n",
      "Epoch: [66/100], loss: 3.487089\n",
      "Epoch: [67/100], loss: 7.735773\n",
      "Epoch: [68/100], loss: 8.452946\n",
      "Epoch: [69/100], loss: 6.230013\n",
      "Epoch: [70/100], loss: 7.039143\n",
      "Epoch: [71/100], loss: 9.045527\n",
      "Epoch: [72/100], loss: 7.363675\n",
      "Epoch: [73/100], loss: 4.825868\n",
      "Epoch: [74/100], loss: 3.775695\n",
      "Epoch: [75/100], loss: 6.093974\n",
      "Epoch: [76/100], loss: 7.810298\n",
      "Epoch: [77/100], loss: 7.140122\n",
      "Epoch: [78/100], loss: 6.717421\n",
      "Epoch: [79/100], loss: 7.387009\n",
      "Epoch: [80/100], loss: 5.837213\n",
      "Epoch: [81/100], loss: 8.600828\n",
      "Epoch: [82/100], loss: 7.426773\n",
      "Epoch: [83/100], loss: 5.281320\n",
      "Epoch: [84/100], loss: 5.190484\n",
      "Epoch: [85/100], loss: 5.124146\n",
      "Epoch: [86/100], loss: 5.314698\n",
      "Epoch: [87/100], loss: 11.467667\n",
      "Epoch: [88/100], loss: 4.569512\n",
      "Epoch: [89/100], loss: 5.065863\n",
      "Epoch: [90/100], loss: 6.413226\n",
      "Epoch: [91/100], loss: 4.399437\n",
      "Epoch: [92/100], loss: 4.740356\n",
      "Epoch: [93/100], loss: 4.837630\n",
      "Epoch: [94/100], loss: 4.762681\n",
      "Epoch: [95/100], loss: 7.257822\n",
      "Epoch: [96/100], loss: 3.876721\n",
      "Epoch: [97/100], loss: 5.579903\n",
      "Epoch: [98/100], loss: 5.678609\n",
      "Epoch: [99/100], loss: 4.078314\n",
      "Epoch: [100/100], loss: 4.051415\n"
     ]
    }
   ],
   "source": [
    "num_freqs = freqs.shape[0]\n",
    "batch_size = 16\n",
    "num_epochs = 100\n",
    "in_dims = 21\n",
    "hidden_dims = 128\n",
    "out_dims = 17\n",
    "kernel_size = 3\n",
    "num_layers = 10\n",
    "num_time = X_train.shape[2]\n",
    "lr = 1e-4\n",
    "device = torch.device('cuda:0' if torch.cuda.is_available() else 'cpu')\n",
    "\n",
    "dataset = list(zip(X_train, Y_train))\n",
    "dataloader = torch.utils.data.DataLoader(dataset, batch_size=batch_size, shuffle=True)\n",
    "\n",
    "model = simpleCNN2d(in_dims, hidden_dims, out_dims, num_time, kernel_size, num_layers).to(device)\n",
    "        \n",
    "optimizer = optim.Adam(model.parameters(), lr=lr)\n",
    "\n",
    "# Training loop\n",
    "for epoch in range(num_epochs):\n",
    "    for batch in dataloader:\n",
    "        optimizer.zero_grad()\n",
    "        x = batch[0] # x: B x C x T\n",
    "        B_size, C_size, T_size = x.shape\n",
    "        x = x.type(torch.float32)\n",
    "        x = x.to(device)\n",
    "\n",
    "        y = batch[1] # y: B x out_dims\n",
    "        y = y.type(torch.float32)\n",
    "        y = y.to(device)\n",
    "                \n",
    "        y_hat = model(x)\n",
    "        \n",
    "        loss = cycle_l1_loss(y_hat, y)\n",
    "        loss.backward()\n",
    "        optimizer.step()\n",
    "\n",
    "    print('Epoch: [{}/{}], loss: {:.6f}'.format(epoch+1, num_epochs, loss.item()))"
   ]
  },
  {
   "cell_type": "code",
   "execution_count": 25,
   "metadata": {},
   "outputs": [],
   "source": [
    "torch.save(model.state_dict(), './model.pth')"
   ]
  },
  {
   "cell_type": "code",
   "execution_count": 26,
   "metadata": {},
   "outputs": [],
   "source": [
    "dataset = list(zip(X_test, Y_test))\n",
    "dataloader = torch.utils.data.DataLoader(dataset, batch_size=batch_size, shuffle=True)\n",
    "\n",
    "inputs_x = torch.tensor([])\n",
    "inputs_y = torch.tensor([])\n",
    "outputs_y_hat = torch.tensor([])\n",
    "\n",
    "with torch.no_grad():\n",
    "    for batch in dataloader:\n",
    "        x = batch[0] # x: B x C x T\n",
    "        B_size, C_size, T_size = x.shape\n",
    "        x = x.type(torch.float32)\n",
    "        x = x.to(device)\n",
    "\n",
    "        y = batch[1] # y: B x out_dims\n",
    "        y = y.type(torch.float32)\n",
    "        y = y.to(device)\n",
    "                \n",
    "        y_hat = model(x)\n",
    "\n",
    "        inputs_x = torch.cat((inputs_x, x.cpu()), 0)\n",
    "        inputs_y = torch.cat((inputs_y, y.cpu()), 0)\n",
    "        outputs_y_hat = torch.cat((outputs_y_hat, y_hat.cpu()), 0)"
   ]
  },
  {
   "cell_type": "code",
   "execution_count": 27,
   "metadata": {},
   "outputs": [],
   "source": [
    "err = torch.abs(outputs_y_hat - inputs_y)"
   ]
  },
  {
   "cell_type": "code",
   "execution_count": 28,
   "metadata": {},
   "outputs": [
    {
     "data": {
      "text/plain": [
       "tensor(2)"
      ]
     },
     "execution_count": 28,
     "metadata": {},
     "output_type": "execute_result"
    }
   ],
   "source": [
    "torch.argmin(err)"
   ]
  },
  {
   "cell_type": "code",
   "execution_count": 29,
   "metadata": {},
   "outputs": [
    {
     "data": {
      "text/plain": [
       "tensor([[1.1185, 0.3790, 0.0000,  ..., 0.2577, 0.0000, 0.0000],\n",
       "        [1.0000, 0.4406, 0.1586,  ..., 0.3234, 0.0000, 0.0000],\n",
       "        [0.2321, 0.1766, 0.0000,  ..., 0.0000, 0.0536, 0.0000],\n",
       "        ...,\n",
       "        [0.6667, 0.4298, 0.0000,  ..., 0.2575, 0.0000, 0.0000],\n",
       "        [0.3957, 0.7388, 0.0000,  ..., 0.6667, 0.0000, 0.0000],\n",
       "        [0.3862, 0.6424, 0.0000,  ..., 0.0000, 0.0000, 0.0000]])"
      ]
     },
     "execution_count": 29,
     "metadata": {},
     "output_type": "execute_result"
    }
   ],
   "source": [
    "err"
   ]
  },
  {
   "cell_type": "code",
   "execution_count": 30,
   "metadata": {},
   "outputs": [
    {
     "name": "stdout",
     "output_type": "stream",
     "text": [
      "tensor(0.1512)\n"
     ]
    }
   ],
   "source": [
    "print(torch.mean(err))"
   ]
  },
  {
   "cell_type": "code",
   "execution_count": 42,
   "metadata": {},
   "outputs": [
    {
     "data": {
      "text/plain": [
       "[<matplotlib.lines.Line2D at 0x17434450400>]"
      ]
     },
     "execution_count": 42,
     "metadata": {},
     "output_type": "execute_result"
    },
    {
     "data": {
      "image/png": "[encoded data removed]",
      "text/plain": [
       "<Figure size 640x480 with 1 Axes>"
      ]
     },
     "metadata": {},
     "output_type": "display_data"
    }
   ],
   "source": [
    "data_idx = 432\n",
    "plt.plot(inputs_y[data_idx, :].detach().numpy())\n",
    "plt.plot(outputs_y_hat[data_idx, :].detach().numpy())"
   ]
  }
 ],
 "metadata": {
  "kernelspec": {
   "display_name": "torch",
   "language": "python",
   "name": "python3"
  },
  "language_info": {
   "codemirror_mode": {
    "name": "ipython",
    "version": 3
   },
   "file_extension": ".py",
   "mimetype": "text/x-python",
   "name": "python",
   "nbconvert_exporter": "python",
   "pygments_lexer": "ipython3",
   "version": "3.9.19"
  }
 },
 "nbformat": 4,
 "nbformat_minor": 2
}
